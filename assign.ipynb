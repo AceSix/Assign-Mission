{
 "cells": [
  {
   "cell_type": "code",
   "execution_count": 1,
   "metadata": {},
   "outputs": [],
   "source": [
    "import cv2\n",
    "import os\n",
    "import numpy as np\n",
    "import pandas as pd\n",
    "import matplotlib as mpl\n",
    "import matplotlib.pyplot as plt\n",
    "import seaborn as sns\n",
    "import sklearn\n",
    "import string\n",
    "#-*- coding:utf-8 -*-"
   ]
  },
  {
   "cell_type": "code",
   "execution_count": 2,
   "metadata": {},
   "outputs": [],
   "source": [
    "path = 'F:\\\\type\\\\2015-2'\n",
    "output = 'F:\\\\type\\\\distribution'\n",
    "ss = pd.read_csv(path+'\\\\20152.csv',encoding='gb18030')\n",
    "#print(ss.name[0])"
   ]
  },
  {
   "cell_type": "code",
   "execution_count": 9,
   "metadata": {},
   "outputs": [],
   "source": [
    "def process(num):\n",
    "    if ss.code[num]<10000000000:\n",
    "        dirfile = path + '\\\\' + '00'+str(ss.code[num])+str(ss.name[num])+'1(反面).jpg'\n",
    "    else:\n",
    "         dirfile = path + '\\\\' + str(ss.code[num])+str(ss.name[num])+'1(反面).jpg'\n",
    "    #print(dirfile)\n",
    "    file = cv2.imdecode(np.fromfile(dirfile, dtype=np.uint8), -1)\n",
    "    img = file.copy()\n",
    "    cv2.imencode('.jpg',img)[1].tofile(dirfile)\n",
    "    size = img.shape\n",
    "    #print(size)\n",
    "    for a in range(int(size[0]/1.8)):\n",
    "        for b in range(int(size[1]/2.06)):\n",
    "            img[a,b] = [0,0,0]\n",
    "    dis = str(num%6)\n",
    "    cv2.imwrite(output+'\\\\'+'2'+ dis+'\\\\'+str(num)+'.jpg',img)\n",
    "    file = open(output+'\\\\'+'2'+ dis +'\\\\'+str(num)+'.txt','w')\n",
    "    file.write('[2015-2-'+str(int(2*ss.writing[num]))+'-'+ss.grade[num]+']'+'\\n')\n"
   ]
  },
  {
   "cell_type": "code",
   "execution_count": 10,
   "metadata": {},
   "outputs": [],
   "source": [
    "for num in range(0,300):\n",
    "    process(num)\n",
    "    #print(num)\n",
    "#process(206)"
   ]
  },
  {
   "cell_type": "code",
   "execution_count": null,
   "metadata": {},
   "outputs": [],
   "source": []
  }
 ],
 "metadata": {
  "kernelspec": {
   "display_name": "Python 3",
   "language": "python",
   "name": "python3"
  },
  "language_info": {
   "codemirror_mode": {
    "name": "ipython",
    "version": 3
   },
   "file_extension": ".py",
   "mimetype": "text/x-python",
   "name": "python",
   "nbconvert_exporter": "python",
   "pygments_lexer": "ipython3",
   "version": "3.5.5"
  }
 },
 "nbformat": 4,
 "nbformat_minor": 2
}
